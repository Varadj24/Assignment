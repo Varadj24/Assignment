{
 "cells": [
  {
   "cell_type": "code",
   "execution_count": 1,
   "id": "fa0013c4-8e5f-479c-afd0-e963f5e317c1",
   "metadata": {},
   "outputs": [],
   "source": [
    "#Q1.Create one variable containing following type of data: "
   ]
  },
  {
   "cell_type": "code",
   "execution_count": null,
   "id": "51817ed9-7528-425c-8512-89caf284b3eb",
   "metadata": {},
   "outputs": [],
   "source": [
    "My_string = \"My name is Varad Joshi\""
   ]
  },
  {
   "cell_type": "code",
   "execution_count": 2,
   "id": "4dba0216-19a0-4bf3-8641-c5e7d07ca39f",
   "metadata": {},
   "outputs": [
    {
     "data": {
      "text/plain": [
       "'My name is Varad Joshi'"
      ]
     },
     "execution_count": 2,
     "metadata": {},
     "output_type": "execute_result"
    }
   ],
   "source": [
    "My_string"
   ]
  },
  {
   "cell_type": "code",
   "execution_count": 3,
   "id": "87a3bfbc-a744-4013-a27c-8c5899219c8f",
   "metadata": {},
   "outputs": [
    {
     "data": {
      "text/plain": [
       "str"
      ]
     },
     "execution_count": 3,
     "metadata": {},
     "output_type": "execute_result"
    }
   ],
   "source": [
    "type(My_string)"
   ]
  },
  {
   "cell_type": "code",
   "execution_count": 4,
   "id": "b20a4e6d-3d9c-4ac6-9c3a-3e9be18e58d3",
   "metadata": {},
   "outputs": [],
   "source": [
    "My_List = [1, 2, 3, 4, 5, \"Varad\" , \"Darshan\" , 12.43, 28.97, \"Manish\" , True]"
   ]
  },
  {
   "cell_type": "code",
   "execution_count": 5,
   "id": "62a7cf7f-231c-4a94-92c7-f534978d4067",
   "metadata": {},
   "outputs": [
    {
     "data": {
      "text/plain": [
       "[1, 2, 3, 4, 5, 'Varad', 'Darshan', 12.43, 28.97, 'Manish', True]"
      ]
     },
     "execution_count": 5,
     "metadata": {},
     "output_type": "execute_result"
    }
   ],
   "source": [
    "My_List"
   ]
  },
  {
   "cell_type": "code",
   "execution_count": 6,
   "id": "28129197-961b-4366-875f-7f66ec603578",
   "metadata": {},
   "outputs": [
    {
     "data": {
      "text/plain": [
       "list"
      ]
     },
     "execution_count": 6,
     "metadata": {},
     "output_type": "execute_result"
    }
   ],
   "source": [
    "type(My_List)"
   ]
  },
  {
   "cell_type": "code",
   "execution_count": 7,
   "id": "794a9cfe-2c5a-4cb5-afb1-09714bad760b",
   "metadata": {},
   "outputs": [],
   "source": [
    "My_Float = 65.677"
   ]
  },
  {
   "cell_type": "code",
   "execution_count": 8,
   "id": "209667dd-4790-4c3f-bbaa-eb736dec3bd9",
   "metadata": {},
   "outputs": [
    {
     "data": {
      "text/plain": [
       "65.677"
      ]
     },
     "execution_count": 8,
     "metadata": {},
     "output_type": "execute_result"
    }
   ],
   "source": [
    "My_Float"
   ]
  },
  {
   "cell_type": "code",
   "execution_count": 9,
   "id": "b2543cd3-b728-4dae-9ae5-256e2c02a00a",
   "metadata": {},
   "outputs": [
    {
     "data": {
      "text/plain": [
       "float"
      ]
     },
     "execution_count": 9,
     "metadata": {},
     "output_type": "execute_result"
    }
   ],
   "source": [
    "type(My_Float)"
   ]
  },
  {
   "cell_type": "code",
   "execution_count": 10,
   "id": "5b08eb27-3550-4ed8-93e0-16752c3bb863",
   "metadata": {},
   "outputs": [],
   "source": [
    "My_tuple = (34, 65, 90, 56)"
   ]
  },
  {
   "cell_type": "code",
   "execution_count": 11,
   "id": "28617635-35c9-4a89-a6ba-c703bf688c13",
   "metadata": {},
   "outputs": [
    {
     "data": {
      "text/plain": [
       "(34, 65, 90, 56)"
      ]
     },
     "execution_count": 11,
     "metadata": {},
     "output_type": "execute_result"
    }
   ],
   "source": [
    "My_tuple"
   ]
  },
  {
   "cell_type": "code",
   "execution_count": 12,
   "id": "b55e06dd-5304-48cf-9015-52cea230d595",
   "metadata": {},
   "outputs": [
    {
     "data": {
      "text/plain": [
       "tuple"
      ]
     },
     "execution_count": 12,
     "metadata": {},
     "output_type": "execute_result"
    }
   ],
   "source": [
    "type(My_tuple)"
   ]
  },
  {
   "cell_type": "code",
   "execution_count": null,
   "id": "28a2dadd-8d41-4772-af23-0690a289c6a9",
   "metadata": {},
   "outputs": [],
   "source": []
  },
  {
   "cell_type": "code",
   "execution_count": 13,
   "id": "5a69a893-7a4c-4988-8a4e-5c3766bd2828",
   "metadata": {},
   "outputs": [],
   "source": [
    "#Q2.What will be the data type of the above given variable"
   ]
  },
  {
   "cell_type": "code",
   "execution_count": 14,
   "id": "8ebe9e7b-bcb3-493e-915f-d0de4db63fe2",
   "metadata": {},
   "outputs": [],
   "source": [
    "var1 = ''"
   ]
  },
  {
   "cell_type": "code",
   "execution_count": 15,
   "id": "20ab08f5-0cff-46be-b929-cf82142f6481",
   "metadata": {},
   "outputs": [
    {
     "data": {
      "text/plain": [
       "str"
      ]
     },
     "execution_count": 15,
     "metadata": {},
     "output_type": "execute_result"
    }
   ],
   "source": [
    "type(var1)"
   ]
  },
  {
   "cell_type": "code",
   "execution_count": 16,
   "id": "f7687b16-b2ba-4db2-ae5a-2ba0c1ea97ca",
   "metadata": {},
   "outputs": [],
   "source": [
    "var2 = '[ DS , ML , Python]'"
   ]
  },
  {
   "cell_type": "code",
   "execution_count": 17,
   "id": "7c00b4e7-9bf1-42fa-980f-de5ae5c04640",
   "metadata": {},
   "outputs": [
    {
     "data": {
      "text/plain": [
       "str"
      ]
     },
     "execution_count": 17,
     "metadata": {},
     "output_type": "execute_result"
    }
   ],
   "source": [
    "type(var2)"
   ]
  },
  {
   "cell_type": "code",
   "execution_count": 18,
   "id": "129e630c-10b2-4c79-8972-8d344076a558",
   "metadata": {},
   "outputs": [],
   "source": [
    "var3 = [ 'DS' , 'ML' , 'Python']"
   ]
  },
  {
   "cell_type": "code",
   "execution_count": 20,
   "id": "0c53f4b2-b574-4def-84d0-87326d9697ec",
   "metadata": {},
   "outputs": [
    {
     "data": {
      "text/plain": [
       "list"
      ]
     },
     "execution_count": 20,
     "metadata": {},
     "output_type": "execute_result"
    }
   ],
   "source": [
    "type(var3)"
   ]
  },
  {
   "cell_type": "code",
   "execution_count": 21,
   "id": "c9c344c9-61d0-40e6-b93b-dee5c5d1a45a",
   "metadata": {},
   "outputs": [],
   "source": [
    "var4 = 1"
   ]
  },
  {
   "cell_type": "code",
   "execution_count": 22,
   "id": "63278e4b-ac5f-408d-8eff-250fe61b9c50",
   "metadata": {},
   "outputs": [
    {
     "data": {
      "text/plain": [
       "int"
      ]
     },
     "execution_count": 22,
     "metadata": {},
     "output_type": "execute_result"
    }
   ],
   "source": [
    "type(var4)"
   ]
  },
  {
   "cell_type": "code",
   "execution_count": null,
   "id": "31ffdaed-502e-4ddf-9369-7fcefc98e19a",
   "metadata": {},
   "outputs": [],
   "source": []
  },
  {
   "cell_type": "code",
   "execution_count": 23,
   "id": "80288b9a-db2f-4b1f-a382-be70a6f1e3ee",
   "metadata": {},
   "outputs": [],
   "source": [
    "#Q3. Explain the use of the following operators using an example:"
   ]
  },
  {
   "cell_type": "code",
   "execution_count": 24,
   "id": "aaddb1f0-1b88-49db-8184-a41ef19efc9c",
   "metadata": {},
   "outputs": [],
   "source": [
    "#(i) / = The division operator\n",
    "Basic = 10/2"
   ]
  },
  {
   "cell_type": "code",
   "execution_count": 25,
   "id": "c2845593-d7d4-4ac6-b9d2-e1ef84964d50",
   "metadata": {},
   "outputs": [
    {
     "data": {
      "text/plain": [
       "5.0"
      ]
     },
     "execution_count": 25,
     "metadata": {},
     "output_type": "execute_result"
    }
   ],
   "source": [
    "Basic"
   ]
  },
  {
   "cell_type": "code",
   "execution_count": 26,
   "id": "1faffb06-f96d-411a-9b48-c88389f80f2f",
   "metadata": {},
   "outputs": [],
   "source": [
    "#(ii) % = The modulo operator \n",
    "basic = 10 % 3"
   ]
  },
  {
   "cell_type": "code",
   "execution_count": 27,
   "id": "1dee61ca-1f0c-42aa-b5dc-adff0c5c3e0d",
   "metadata": {},
   "outputs": [
    {
     "data": {
      "text/plain": [
       "1"
      ]
     },
     "execution_count": 27,
     "metadata": {},
     "output_type": "execute_result"
    }
   ],
   "source": [
    "basic"
   ]
  },
  {
   "cell_type": "code",
   "execution_count": 28,
   "id": "bcd47fc0-3373-4bea-9ef6-390db04153c9",
   "metadata": {},
   "outputs": [],
   "source": [
    "#iii) // \n",
    "basic1 = 10 // 3"
   ]
  },
  {
   "cell_type": "code",
   "execution_count": 29,
   "id": "f9421e4d-75f3-4f62-a914-2f9703e289df",
   "metadata": {},
   "outputs": [
    {
     "data": {
      "text/plain": [
       "3"
      ]
     },
     "execution_count": 29,
     "metadata": {},
     "output_type": "execute_result"
    }
   ],
   "source": [
    "basic1"
   ]
  },
  {
   "cell_type": "code",
   "execution_count": 30,
   "id": "bc268d9a-9d5d-4435-9021-bab40b6f9fa0",
   "metadata": {},
   "outputs": [],
   "source": [
    "#iv) **\n",
    "Basic1 = 10 ** 3"
   ]
  },
  {
   "cell_type": "code",
   "execution_count": 31,
   "id": "eb0595b2-e3c2-4f2d-83c5-e8d2651f06d2",
   "metadata": {},
   "outputs": [
    {
     "data": {
      "text/plain": [
       "1000"
      ]
     },
     "execution_count": 31,
     "metadata": {},
     "output_type": "execute_result"
    }
   ],
   "source": [
    "Basic1"
   ]
  },
  {
   "cell_type": "code",
   "execution_count": null,
   "id": "37341469-0a97-4616-b13d-5d7e8d4cd2e5",
   "metadata": {},
   "outputs": [],
   "source": []
  },
  {
   "cell_type": "code",
   "execution_count": 32,
   "id": "a6c88ce7-38b3-4588-9330-af3ca7c7a059",
   "metadata": {},
   "outputs": [],
   "source": [
    "#Q4. Create a list of length 10 of your choice containing multiple types of data. Using for loop print the element and its data type"
   ]
  },
  {
   "cell_type": "code",
   "execution_count": 35,
   "id": "63655bc6-f446-4875-880f-cd7ca5f63224",
   "metadata": {},
   "outputs": [
    {
     "name": "stdout",
     "output_type": "stream",
     "text": [
      "Element: 10, Data Type: int\n",
      "Element: 20, Data Type: int\n",
      "Element: 30, Data Type: int\n",
      "Element: ('Varad', 'Darshan', 'Prasad'), Data Type: tuple\n",
      "Element: {'name': 'varad', 'age': 21}, Data Type: dict\n",
      "Element: True, Data Type: bool\n",
      "Element: 54.23, Data Type: float\n",
      "Element: 50.1234, Data Type: float\n",
      "Element: False, Data Type: bool\n",
      "Element: manish, Data Type: str\n"
     ]
    }
   ],
   "source": [
    "my_list = [10, 20, 30, ('Varad', 'Darshan', 'Prasad'), {'name' : 'varad', 'age' : 21}, True, 54.23, 50.1234, False , 'manish']\n",
    "\n",
    "for element in my_list:\n",
    "    print(f\"Element: {element}, Data Type: {type(element).__name__}\")"
   ]
  },
  {
   "cell_type": "code",
   "execution_count": null,
   "id": "b420c657-4e12-42f2-9443-433018b55d16",
   "metadata": {},
   "outputs": [],
   "source": []
  },
  {
   "cell_type": "code",
   "execution_count": 36,
   "id": "e71eba2d-a889-4c3b-8a9d-6abb57969d3f",
   "metadata": {},
   "outputs": [],
   "source": [
    "#Q5.Using a while loop, verify if the number A is purely divisible by number B and if so then how many times it can be divisible"
   ]
  },
  {
   "cell_type": "code",
   "execution_count": 37,
   "id": "cb1d6f18-e1f1-42fd-afbf-f529e7d10a7e",
   "metadata": {},
   "outputs": [
    {
     "name": "stdin",
     "output_type": "stream",
     "text": [
      "Enter the number A: 10\n",
      "Enter the number B: 2\n"
     ]
    },
    {
     "name": "stdout",
     "output_type": "stream",
     "text": [
      "5 is divisible by 2 and can be divided 1 times.\n"
     ]
    }
   ],
   "source": [
    "A = int(input('Enter the number A:'))\n",
    "B = int(input('Enter the number B:'))\n",
    "count = 0\n",
    "\n",
    "while A % B == 0 :\n",
    "    A = A // B\n",
    "    count += 1\n",
    "if count > 0 :\n",
    "    print(f\"{A} is divisible by {B} and can be divided {count} times.\")\n",
    "else :\n",
    "    print(f\"{A} is not divisible by {B}.\")"
   ]
  },
  {
   "cell_type": "code",
   "execution_count": null,
   "id": "85557786-e324-4d1c-8983-e278a4b27f52",
   "metadata": {},
   "outputs": [],
   "source": []
  },
  {
   "cell_type": "code",
   "execution_count": 38,
   "id": "3e252a84-c496-46e0-93f7-8121e4370396",
   "metadata": {},
   "outputs": [],
   "source": [
    "#Q6.Create a list containing 25 int type data. Using for loop and if-else condition print if the element is divisible by 3 or not "
   ]
  },
  {
   "cell_type": "code",
   "execution_count": 41,
   "id": "09a5d994-7bdc-4675-a107-393e87c71cdc",
   "metadata": {},
   "outputs": [
    {
     "name": "stdout",
     "output_type": "stream",
     "text": [
      "1 is not divisible by 3.\n",
      "2 is not divisible by 3.\n",
      "3 is divisible by 3.\n",
      "4 is not divisible by 3.\n",
      "5 is not divisible by 3.\n",
      "6 is divisible by 3.\n",
      "7 is not divisible by 3.\n",
      "8 is not divisible by 3.\n",
      "9 is divisible by 3.\n",
      "10 is not divisible by 3.\n",
      "11 is not divisible by 3.\n",
      "12 is divisible by 3.\n",
      "13 is not divisible by 3.\n",
      "14 is not divisible by 3.\n",
      "15 is divisible by 3.\n",
      "16 is not divisible by 3.\n",
      "17 is not divisible by 3.\n",
      "18 is divisible by 3.\n",
      "19 is not divisible by 3.\n",
      "20 is not divisible by 3.\n",
      "21 is divisible by 3.\n",
      "22 is not divisible by 3.\n",
      "23 is not divisible by 3.\n",
      "24 is divisible by 3.\n",
      "25 is not divisible by 3.\n"
     ]
    }
   ],
   "source": [
    "my_list1 = [1,2,3,4,5,6,7,8,9,10,11,12,13,14,15,16,17,18,19,20,21,22,23,24,25]\n",
    "for i in my_list1 :\n",
    "    if i % 3 == 0:\n",
    "        print(f'{i} is divisible by 3.')\n",
    "    else :\n",
    "        print(f'{i} is not divisible by 3.')"
   ]
  },
  {
   "cell_type": "code",
   "execution_count": null,
   "id": "6fdaa80d-971b-4686-97ec-70aac4b88e43",
   "metadata": {},
   "outputs": [],
   "source": []
  },
  {
   "cell_type": "code",
   "execution_count": 42,
   "id": "00219266-4cb1-40be-84de-4a14a0081671",
   "metadata": {},
   "outputs": [],
   "source": [
    "#Q7. What do you understand about mutable and immutable data types? Give examples for both showing this property."
   ]
  },
  {
   "cell_type": "code",
   "execution_count": 43,
   "id": "0e93fdd9-af14-451e-8d85-7f29228d1f78",
   "metadata": {},
   "outputs": [],
   "source": [
    "#1.Mutable =\n",
    "             #Mutable data types are those whose values can be modified or changed after they are created.\n",
    "\n",
    "l = [1, 2, 3]"
   ]
  },
  {
   "cell_type": "code",
   "execution_count": 44,
   "id": "d60653d4-aeb5-4fab-a77a-e1b14b6d2c9d",
   "metadata": {},
   "outputs": [],
   "source": [
    "l.append(4)"
   ]
  },
  {
   "cell_type": "code",
   "execution_count": 45,
   "id": "49f7dbc1-f106-4140-91f6-fd441d8b236f",
   "metadata": {},
   "outputs": [
    {
     "data": {
      "text/plain": [
       "[1, 2, 3, 4]"
      ]
     },
     "execution_count": 45,
     "metadata": {},
     "output_type": "execute_result"
    }
   ],
   "source": [
    "l"
   ]
  },
  {
   "cell_type": "code",
   "execution_count": 46,
   "id": "e30cb434-26de-4e0b-b300-06c704d90ce3",
   "metadata": {},
   "outputs": [],
   "source": [
    "l[1] = 5"
   ]
  },
  {
   "cell_type": "code",
   "execution_count": 47,
   "id": "cfd7a153-007b-4c53-a1d3-7e3815b7a4a4",
   "metadata": {},
   "outputs": [
    {
     "data": {
      "text/plain": [
       "[1, 5, 3, 4]"
      ]
     },
     "execution_count": 47,
     "metadata": {},
     "output_type": "execute_result"
    }
   ],
   "source": [
    "l"
   ]
  },
  {
   "cell_type": "code",
   "execution_count": 48,
   "id": "73b59364-89dc-4983-a1a3-0eba7e8ea473",
   "metadata": {},
   "outputs": [],
   "source": [
    "#2.Immutable Data Types = \n",
    "                          #Immutable data types are those whose values cannot be changed after they are created.\n",
    "v = 'Darshan'"
   ]
  },
  {
   "cell_type": "code",
   "execution_count": 51,
   "id": "d91e32ac-8cab-40f3-868c-be6fada9f2ff",
   "metadata": {},
   "outputs": [
    {
     "data": {
      "text/plain": [
       "'Darshan'"
      ]
     },
     "execution_count": 51,
     "metadata": {},
     "output_type": "execute_result"
    }
   ],
   "source": [
    "v"
   ]
  },
  {
   "cell_type": "code",
   "execution_count": null,
   "id": "003dc3ed-ee03-4e71-9b96-3432afc1f2c3",
   "metadata": {},
   "outputs": [],
   "source": []
  }
 ],
 "metadata": {
  "kernelspec": {
   "display_name": "Python 3 (ipykernel)",
   "language": "python",
   "name": "python3"
  },
  "language_info": {
   "codemirror_mode": {
    "name": "ipython",
    "version": 3
   },
   "file_extension": ".py",
   "mimetype": "text/x-python",
   "name": "python",
   "nbconvert_exporter": "python",
   "pygments_lexer": "ipython3",
   "version": "3.10.8"
  }
 },
 "nbformat": 4,
 "nbformat_minor": 5
}

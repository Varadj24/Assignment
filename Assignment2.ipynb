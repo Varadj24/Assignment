{
 "cells": [
  {
   "cell_type": "code",
   "execution_count": 1,
   "id": "898ea0a6-7c9a-43ac-a73b-6e949e5098f1",
   "metadata": {},
   "outputs": [],
   "source": [
    "#Q1. How do you comment code in Python? What are the different types of comments?"
   ]
  },
  {
   "cell_type": "code",
   "execution_count": 2,
   "id": "008bb194-69f4-43c1-948a-5386e609605d",
   "metadata": {},
   "outputs": [
    {
     "data": {
      "text/plain": [
       "'Comments are essential for code readability and understanding.'"
      ]
     },
     "execution_count": 2,
     "metadata": {},
     "output_type": "execute_result"
    }
   ],
   "source": [
    "'''Comments are essential for code readability and understanding.'''"
   ]
  },
  {
   "cell_type": "code",
   "execution_count": null,
   "id": "189bc78e-9a2e-4a13-839d-2ad1af7d3069",
   "metadata": {},
   "outputs": [],
   "source": [
    " #Python supports two types of comments:\n",
    "\n",
    "'''1).Single-line comments: \n",
    "                            Single-line comments begin with the hash character (#) \n",
    "                            and continue until the end of the line. \n",
    "2).Multi-line comments: \n",
    "                        Multi-line comments are used to provide more detailed \n",
    "                        documentation for functions, classes, or modules  \n",
    "                        multi-line comments are typically represented using triple quotes (''' or \"\"\"). '''                      "
   ]
  },
  {
   "cell_type": "code",
   "execution_count": null,
   "id": "80245a08-4cf0-4839-9344-10028643e6fd",
   "metadata": {},
   "outputs": [],
   "source": []
  },
  {
   "cell_type": "code",
   "execution_count": 3,
   "id": "4a7cc4a8-68e9-48a9-b2be-915683fe6b08",
   "metadata": {},
   "outputs": [],
   "source": [
    "#Q2. What are variables in Python? How do you declare and assign values to variables"
   ]
  },
  {
   "cell_type": "code",
   "execution_count": 8,
   "id": "de6e1dc6-5a94-43c3-af94-0fb189b91648",
   "metadata": {},
   "outputs": [],
   "source": [
    "'''variables are used to store data values in memory. \n",
    "They act as placeholders for different types of data, such as numbers, strings, lists, etc.'''\n",
    "\n",
    "# Integer variable\n",
    "age = 21\n",
    "\n",
    "# String variable\n",
    "name = \"Varad\"\n",
    "\n",
    "# Floating-point variable\n",
    "SCC_Percentage  = 80.82\n",
    "\n",
    "# List variable\n",
    "numbers = [1, 2, 3, 4, 5]\n",
    "\n",
    "# Boolean variable\n",
    "is_student = True\n"
   ]
  },
  {
   "cell_type": "code",
   "execution_count": 5,
   "id": "89408cbc-df45-41e4-ab16-e6b7cd01055d",
   "metadata": {},
   "outputs": [
    {
     "data": {
      "text/plain": [
       "21"
      ]
     },
     "execution_count": 5,
     "metadata": {},
     "output_type": "execute_result"
    }
   ],
   "source": [
    "age"
   ]
  },
  {
   "cell_type": "code",
   "execution_count": 6,
   "id": "3640b99d-36f7-4796-bf3b-2ee7b7c68a63",
   "metadata": {},
   "outputs": [
    {
     "data": {
      "text/plain": [
       "'Varad'"
      ]
     },
     "execution_count": 6,
     "metadata": {},
     "output_type": "execute_result"
    }
   ],
   "source": [
    "name"
   ]
  },
  {
   "cell_type": "code",
   "execution_count": 9,
   "id": "2b311799-9ff1-451b-83ca-61425894e616",
   "metadata": {},
   "outputs": [
    {
     "data": {
      "text/plain": [
       "80.82"
      ]
     },
     "execution_count": 9,
     "metadata": {},
     "output_type": "execute_result"
    }
   ],
   "source": [
    "SCC_Percentage"
   ]
  },
  {
   "cell_type": "code",
   "execution_count": 10,
   "id": "c1829196-5671-4559-91ff-0e7a1ac76df7",
   "metadata": {},
   "outputs": [
    {
     "data": {
      "text/plain": [
       "[1, 2, 3, 4, 5]"
      ]
     },
     "execution_count": 10,
     "metadata": {},
     "output_type": "execute_result"
    }
   ],
   "source": [
    "numbers"
   ]
  },
  {
   "cell_type": "code",
   "execution_count": 11,
   "id": "a4b96985-8916-4d98-9e46-044bfbe0df0b",
   "metadata": {},
   "outputs": [
    {
     "data": {
      "text/plain": [
       "True"
      ]
     },
     "execution_count": 11,
     "metadata": {},
     "output_type": "execute_result"
    }
   ],
   "source": [
    "is_student "
   ]
  },
  {
   "cell_type": "code",
   "execution_count": null,
   "id": "4730e97d-9083-4843-8f0d-0806b008d8f3",
   "metadata": {},
   "outputs": [],
   "source": []
  },
  {
   "cell_type": "code",
   "execution_count": 12,
   "id": "28cdd556-445e-433c-9209-ed487ceabe02",
   "metadata": {},
   "outputs": [],
   "source": [
    "#Q3.. How do you convert one data type to another in Python"
   ]
  },
  {
   "cell_type": "code",
   "execution_count": 13,
   "id": "87bcd511-6304-4189-9578-9188e14cf67e",
   "metadata": {},
   "outputs": [],
   "source": [
    "My_age = \"21\"\n",
    "Value_int = int(My_age)    # Convert string to integer\n",
    "Value_float = float(My_age) #convert string to float"
   ]
  },
  {
   "cell_type": "code",
   "execution_count": 14,
   "id": "3e78198b-3f5a-4f91-8c87-6e857ad03187",
   "metadata": {},
   "outputs": [
    {
     "data": {
      "text/plain": [
       "21"
      ]
     },
     "execution_count": 14,
     "metadata": {},
     "output_type": "execute_result"
    }
   ],
   "source": [
    "Value_int"
   ]
  },
  {
   "cell_type": "code",
   "execution_count": 16,
   "id": "76a1bcb7-b446-42d2-ac24-9d00fa5022f4",
   "metadata": {},
   "outputs": [
    {
     "data": {
      "text/plain": [
       "21.0"
      ]
     },
     "execution_count": 16,
     "metadata": {},
     "output_type": "execute_result"
    }
   ],
   "source": [
    "Value_float"
   ]
  },
  {
   "cell_type": "code",
   "execution_count": null,
   "id": "360fe2b9-f94e-444f-8ce8-8a3a6b8a4deb",
   "metadata": {},
   "outputs": [],
   "source": []
  },
  {
   "cell_type": "code",
   "execution_count": 17,
   "id": "a9242ff8-7da6-4b08-8e3d-6effde7b3a80",
   "metadata": {},
   "outputs": [],
   "source": [
    "#Q4. How do you write and execute a Python script from the command line"
   ]
  },
  {
   "cell_type": "code",
   "execution_count": null,
   "id": "eed0db72-ffaf-432d-af92-a98f052b448f",
   "metadata": {},
   "outputs": [],
   "source": [
    "'''1).Write the Python Script:\n",
    "                               Open a text editor(VSCODE,NOTEPAD,AND ETC) For The Write The Python script\n",
    "                               {# myscript.py\n",
    "                               print(\"Hello, World!\")}\n",
    "   2).Open a Command Prompt And Navigate to the Script's Directory :\n",
    "                               Use the cd command to navigate to the directory where your Python script is located.\n",
    "                               For example, if your script is in the Documents folder, use:\n",
    "                               {cd Documents}\n",
    "   3).Execute the Script:\n",
    "                               To execute the Python script, use the python command \n",
    "                               followed by the name of your script file.\n",
    "                              { python myscript.py}'''\n",
    "\n"
   ]
  },
  {
   "cell_type": "code",
   "execution_count": null,
   "id": "7fc8d2da-d240-479d-b267-3c0e51509f88",
   "metadata": {},
   "outputs": [],
   "source": []
  },
  {
   "cell_type": "code",
   "execution_count": 1,
   "id": "059fd1c7-b352-4702-9948-090a394c3f1b",
   "metadata": {},
   "outputs": [],
   "source": [
    "#Q5. Given a list my_list = [1, 2, 3, 4, 5], write the code to slice the list and obtain the sub-list [2, 3]"
   ]
  },
  {
   "cell_type": "code",
   "execution_count": 3,
   "id": "0684e4b4-3ada-4ade-bdce-a97f30152bc4",
   "metadata": {},
   "outputs": [
    {
     "name": "stdout",
     "output_type": "stream",
     "text": [
      "[2, 3]\n"
     ]
    }
   ],
   "source": [
    "My_list = [1,2,3,4,5]\n",
    "Sub_list = My_list[1:3]\n",
    "\n",
    "print(Sub_list)"
   ]
  },
  {
   "cell_type": "code",
   "execution_count": null,
   "id": "abd87297-c166-48cc-bf4e-c32b103b9deb",
   "metadata": {},
   "outputs": [],
   "source": []
  },
  {
   "cell_type": "code",
   "execution_count": 4,
   "id": "984d1a62-d84b-4e91-9dff-a74d00bcc9d2",
   "metadata": {},
   "outputs": [],
   "source": [
    "#Q6. What is a complex number in mathematics, and how is it represented in Python"
   ]
  },
  {
   "cell_type": "code",
   "execution_count": 9,
   "id": "8a24322a-c538-40b5-b5b4-0f957fc28458",
   "metadata": {},
   "outputs": [
    {
     "data": {
      "text/plain": [
       "'A complex number is a number of the form a + bi, \\nwhere a and b are real numbers, and i represents the imaginary unit.'"
      ]
     },
     "execution_count": 9,
     "metadata": {},
     "output_type": "execute_result"
    }
   ],
   "source": [
    "'''A complex number is a number of the form a + bi, \n",
    "where a and b are real numbers, and i represents the imaginary unit.''' "
   ]
  },
  {
   "cell_type": "code",
   "execution_count": null,
   "id": "75c7174b-be45-4c8c-8551-ea7f17147a46",
   "metadata": {},
   "outputs": [],
   "source": [
    "z = 1 + 4j\n",
    "print(z) "
   ]
  },
  {
   "cell_type": "code",
   "execution_count": 6,
   "id": "d0daa1bf-aa35-4c62-a4a3-38fac25483f2",
   "metadata": {},
   "outputs": [
    {
     "name": "stdout",
     "output_type": "stream",
     "text": [
      "(-2+7j)\n"
     ]
    }
   ],
   "source": [
    "x = -2 + 7j\n",
    "print(x)"
   ]
  },
  {
   "cell_type": "code",
   "execution_count": null,
   "id": "4d5578d7-7cd7-49a6-b37a-8a6ee13bedbe",
   "metadata": {},
   "outputs": [],
   "source": []
  },
  {
   "cell_type": "code",
   "execution_count": 10,
   "id": "f2fcd6ef-7da8-4b20-a1fe-bf814473d961",
   "metadata": {},
   "outputs": [],
   "source": [
    "#Q7. What is the correct way to declare a variable named age and assign the value 25 to it"
   ]
  },
  {
   "cell_type": "code",
   "execution_count": 11,
   "id": "5f0e2c9a-70b3-490e-8fac-564faa1e0233",
   "metadata": {},
   "outputs": [],
   "source": [
    "Age = 25"
   ]
  },
  {
   "cell_type": "code",
   "execution_count": 13,
   "id": "2ba16cd6-a08c-4cf5-ab50-1745f5a7faf8",
   "metadata": {},
   "outputs": [
    {
     "data": {
      "text/plain": [
       "25"
      ]
     },
     "execution_count": 13,
     "metadata": {},
     "output_type": "execute_result"
    }
   ],
   "source": [
    "Age"
   ]
  },
  {
   "cell_type": "code",
   "execution_count": null,
   "id": "45b3093d-69d4-43d3-903a-0214cd2e8cd2",
   "metadata": {},
   "outputs": [],
   "source": []
  },
  {
   "cell_type": "code",
   "execution_count": 14,
   "id": "ef41ec75-087a-4869-ad37-8c060b4f01fa",
   "metadata": {},
   "outputs": [],
   "source": [
    "#Q8.Declare a variable named price and assign the value 9.99 to it. What data type does this variable belong to"
   ]
  },
  {
   "cell_type": "code",
   "execution_count": 15,
   "id": "803205e5-9f86-4a29-9adb-a0f41b4e0b44",
   "metadata": {},
   "outputs": [],
   "source": [
    "price = 9.99"
   ]
  },
  {
   "cell_type": "code",
   "execution_count": 16,
   "id": "5a859f65-25ef-40b9-ac54-6a1a54aaf89e",
   "metadata": {},
   "outputs": [
    {
     "data": {
      "text/plain": [
       "float"
      ]
     },
     "execution_count": 16,
     "metadata": {},
     "output_type": "execute_result"
    }
   ],
   "source": [
    "type(price)"
   ]
  },
  {
   "cell_type": "code",
   "execution_count": null,
   "id": "52fb9680-bd99-4777-8f7a-6057622574bb",
   "metadata": {},
   "outputs": [],
   "source": []
  },
  {
   "cell_type": "code",
   "execution_count": 17,
   "id": "61074446-1b87-47b2-8e1c-ef69373e9d32",
   "metadata": {},
   "outputs": [],
   "source": [
    "#Q9. Create a variable named name and assign your full name to it as a string. How would you print the value of this variable"
   ]
  },
  {
   "cell_type": "code",
   "execution_count": 18,
   "id": "2c520497-8916-4505-b4bf-4d3c4a110ee0",
   "metadata": {},
   "outputs": [],
   "source": [
    "Name = 'Varad Rajesh Joshi'\n"
   ]
  },
  {
   "cell_type": "code",
   "execution_count": 19,
   "id": "d239213f-45d4-4ebf-a748-51741e2b369b",
   "metadata": {},
   "outputs": [
    {
     "name": "stdout",
     "output_type": "stream",
     "text": [
      "Varad Rajesh Joshi\n"
     ]
    }
   ],
   "source": [
    "print(Name)"
   ]
  },
  {
   "cell_type": "code",
   "execution_count": null,
   "id": "c9b23908-8b0a-4e9f-aba4-747d44fdf3c6",
   "metadata": {},
   "outputs": [],
   "source": []
  },
  {
   "cell_type": "code",
   "execution_count": 20,
   "id": "9f6a5800-4dea-43e8-932d-2d9b68114fa0",
   "metadata": {},
   "outputs": [],
   "source": [
    "#Q10.Given the string \"Hello, World!\", extract the substring \"World\"."
   ]
  },
  {
   "cell_type": "code",
   "execution_count": 21,
   "id": "ed44daa3-8c3d-4188-938c-575400b9a748",
   "metadata": {},
   "outputs": [
    {
     "name": "stdout",
     "output_type": "stream",
     "text": [
      "World\n"
     ]
    }
   ],
   "source": [
    "My_string = \"Hello, World!\"\n",
    "substring = My_string[7:12]\n",
    "print(substring)"
   ]
  },
  {
   "cell_type": "code",
   "execution_count": null,
   "id": "d6a3af5c-c551-4cfc-a984-1663fa0bca0c",
   "metadata": {},
   "outputs": [],
   "source": []
  },
  {
   "cell_type": "code",
   "execution_count": 22,
   "id": "e026d936-96b6-4fcd-b93b-f0772913ff80",
   "metadata": {},
   "outputs": [],
   "source": [
    "#Q11.Create a variable named \"is_student\" and assign it a boolean value indicating whether you are currently a student or not."
   ]
  },
  {
   "cell_type": "code",
   "execution_count": 23,
   "id": "801d78c4-b208-4544-8347-e1f6096accb1",
   "metadata": {},
   "outputs": [],
   "source": [
    "is_student = True"
   ]
  },
  {
   "cell_type": "code",
   "execution_count": 24,
   "id": "e8804152-4a73-4616-9871-87bdea643395",
   "metadata": {},
   "outputs": [
    {
     "data": {
      "text/plain": [
       "bool"
      ]
     },
     "execution_count": 24,
     "metadata": {},
     "output_type": "execute_result"
    }
   ],
   "source": [
    "type(is_student)"
   ]
  },
  {
   "cell_type": "code",
   "execution_count": null,
   "id": "29f0a1d3-12ae-4d84-bd60-b329837f4977",
   "metadata": {},
   "outputs": [],
   "source": []
  }
 ],
 "metadata": {
  "kernelspec": {
   "display_name": "Python 3 (ipykernel)",
   "language": "python",
   "name": "python3"
  },
  "language_info": {
   "codemirror_mode": {
    "name": "ipython",
    "version": 3
   },
   "file_extension": ".py",
   "mimetype": "text/x-python",
   "name": "python",
   "nbconvert_exporter": "python",
   "pygments_lexer": "ipython3",
   "version": "3.10.8"
  }
 },
 "nbformat": 4,
 "nbformat_minor": 5
}
